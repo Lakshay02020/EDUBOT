{
  "nbformat": 4,
  "nbformat_minor": 0,
  "metadata": {
    "colab": {
      "name": "AI_Project.ipynb",
      "provenance": [],
      "collapsed_sections": []
    },
    "kernelspec": {
      "name": "python3",
      "display_name": "Python 3"
    },
    "language_info": {
      "name": "python"
    }
  },
  "cells": [
    {
      "cell_type": "markdown",
      "source": [
        "                    **EDUBOT**                            \n",
        "(A chatbot which is built to aid Thapar students.) \n",
        "\n",
        "NAME: Lakshay Singla             ROLL NUMBER: 102003371\n",
        "\n",
        "NAME: Eknoor Kaur Walia          ROLL NUMBER: 102183010 "
      ],
      "metadata": {
        "id": "EP83ua8Z9Npg"
      }
    },
    {
      "cell_type": "code",
      "source": [
        "# !pip install gTTs"
      ],
      "metadata": {
        "id": "ZLTWnavLtoMY"
      },
      "execution_count": 90,
      "outputs": []
    },
    {
      "cell_type": "code",
      "source": [
        "!pip install translate\n",
        "from translate import Translator"
      ],
      "metadata": {
        "colab": {
          "base_uri": "https://localhost:8080/"
        },
        "id": "ddiSLSKK0vo3",
        "outputId": "5ebe136c-5b96-42f2-b456-9a87865b9721"
      },
      "execution_count": 91,
      "outputs": [
        {
          "output_type": "stream",
          "name": "stdout",
          "text": [
            "Requirement already satisfied: translate in /usr/local/lib/python3.7/dist-packages (3.6.1)\n",
            "Requirement already satisfied: click in /usr/local/lib/python3.7/dist-packages (from translate) (7.1.2)\n",
            "Requirement already satisfied: libretranslatepy==2.1.1 in /usr/local/lib/python3.7/dist-packages (from translate) (2.1.1)\n",
            "Requirement already satisfied: lxml in /usr/local/lib/python3.7/dist-packages (from translate) (4.2.6)\n",
            "Requirement already satisfied: requests in /usr/local/lib/python3.7/dist-packages (from translate) (2.23.0)\n",
            "Requirement already satisfied: certifi>=2017.4.17 in /usr/local/lib/python3.7/dist-packages (from requests->translate) (2021.10.8)\n",
            "Requirement already satisfied: chardet<4,>=3.0.2 in /usr/local/lib/python3.7/dist-packages (from requests->translate) (3.0.4)\n",
            "Requirement already satisfied: idna<3,>=2.5 in /usr/local/lib/python3.7/dist-packages (from requests->translate) (2.10)\n",
            "Requirement already satisfied: urllib3!=1.25.0,!=1.25.1,<1.26,>=1.21.1 in /usr/local/lib/python3.7/dist-packages (from requests->translate) (1.24.3)\n"
          ]
        }
      ]
    },
    {
      "cell_type": "code",
      "execution_count": 92,
      "metadata": {
        "id": "b1wgdh5g5bX9",
        "colab": {
          "base_uri": "https://localhost:8080/"
        },
        "outputId": "d229d42b-7b98-44e8-b0c8-3609a36bd722"
      },
      "outputs": [
        {
          "output_type": "stream",
          "name": "stdout",
          "text": [
            "Program started\n"
          ]
        }
      ],
      "source": [
        "import nltk\n",
        "from nltk.corpus import stopwords\n",
        "###########################\n",
        "import numpy as np\n",
        "from gtts import gTTS\n",
        "import IPython\n",
        "from IPython.display import Audio\n",
        "from scipy.io import wavfile\n",
        "###########################\n",
        "\n",
        "import json\n",
        "import random\n",
        "from nltk.tag import pos_tag # for proper noun\n",
        "from nltk.tokenize import word_tokenize, sent_tokenize\n",
        "from nltk.stem import WordNetLemmatizer\n",
        "from nltk.stem import PorterStemmer\n",
        "print(\"Program started\")"
      ]
    },
    {
      "cell_type": "code",
      "source": [
        "filename=\"/content/intents.json\""
      ],
      "metadata": {
        "id": "MXw9QKHX6OFK"
      },
      "execution_count": 93,
      "outputs": []
    },
    {
      "cell_type": "code",
      "source": [
        "intents = json.loads(open(filename).read())"
      ],
      "metadata": {
        "id": "xepRS9DD6bm7"
      },
      "execution_count": 94,
      "outputs": []
    },
    {
      "cell_type": "code",
      "source": [
        "print(intents)"
      ],
      "metadata": {
        "colab": {
          "base_uri": "https://localhost:8080/"
        },
        "id": "GoO5-ZK16sGR",
        "outputId": "c0b3fc3d-64d0-4fac-d92c-9703855bddea"
      },
      "execution_count": 95,
      "outputs": [
        {
          "output_type": "stream",
          "name": "stdout",
          "text": [
            "{'intents': [{'tag': 'greeting', 'patterns': ['Hi', 'How are you', 'Is anyone there?', 'Hello', 'Good day', 'Whats up', 'Hey', 'greetings'], 'responses': ['Hello!', 'Good to see you again!', 'Hi there, how can I help?'], 'context_set': ''}, {'tag': 'goodbye', 'patterns': ['cya', 'See you later', 'Goodbye', 'I am Leaving', 'Have a Good day', 'bye', 'cao', 'see ya'], 'responses': ['Sad to see you go :(', 'Talk to you later', 'Goodbye!'], 'context_set': ''}, {'tag': 'subjects', 'patterns': ['subjects', 'My Subjects', 'Computer Science Subjects', 'Which are my subjects', 'CS Subjects', 'COE subjects', 'Tell me subjects'], 'responses': ['Here you go AI DBMS DAA MSNT CN', 'List involves AI DBMS DAA MSNT CN', 'Following is the list AI DBMS DAA MSNT CN', 'Subjects in your current semester are AI DBMS DAA MSNT CN'], 'context_set': ''}, {'tag': 'AIteacher', 'patterns': ['Who teaches me AI', 'AI subject teacher', 'AI teacher', 'AI lab teacher'], 'responses': ['Here is the detail \\nName: Swati Kumari \\nPhone Number:9097244060 \\nEmail:swati.kumari@thapar.edu,', 'Name:Swati Kumari(Assistant Professor) \\nPhone number:9097244060 \\nEmail:swati.kumari@thapar.edu \\nCabin number:L304 '], 'context_set': ''}, {'tag': 'Bestteacher', 'patterns': ['Who the best teacher', 'best teacher', 'good teacher', 'best AI teacher in Thapar'], 'responses': ['I have to admit although every teacher in thapar teaches to the best of his/her efforts but Swati Mam is exceptionally incredible in her job', \"Though, every teacher is good in Thapar it wouldn't be wrong to say Swati Mam is the BEST\", 'On the top of the list is  Swati Mam.'], 'context_set': ''}, {'tag': 'doaa', 'patterns': ['Who is the doaa', 'doaa', 'Dean of Academic Affairs', 'dean of thapar'], 'responses': ['Here is the detail \\nName: Dr. Maninder Singh \\nEmail:doaa@thapar.edu and msingh@thapar.edu', 'Name: Dr. Maninder Singh \\nEmail:doaa@thapar.edu and msingh@thapar.edu'], 'context_set': ''}, {'tag': 'madeby', 'patterns': ['Who made you', 'made by whom?', 'CREATED BY?', 'whose project are you?'], 'responses': ['Here is the detail \\nName: Lakshay Singla  Roll no:102003371 \\nName: Eknoor Kaur Walia  Roll no:102183010 \\nSubGroup:COE15', 'I am created by Lakshay Singla(Roll no:102003371) and Eknoor Kaur Walia(Roll no:102183010) of COE15'], 'context_set': ''}, {'tag': 'exams', 'patterns': ['when is my exam', 'exam dates', 'exam date', 'when are est starting?'], 'responses': ['Here are  the lastest details:\\n25May MSnT\\n27May DBMS\\n28May AI\\n1June CN\\n2June Manpro\\n4June DAA', 'The exams are scheduled as follows \\n25May MSnT\\n27May DBMS\\n28May AI\\n1June CN\\n2June Manpro\\n4June DAA'], 'context_set': ''}, {'tag': 'quespapers', 'patterns': ['pervious year question papers', 'last yeat papers', 'ques paper', \"from where can i get last year's ques paper?\"], 'responses': ['Here you go:\\n https://cl.thapar.edu/ques.php', 'ALL THE BEST FOR PREP \\n https://cl.thapar.edu/ques.php'], 'context_set': ''}, {'tag': 'societies', 'patterns': ['thapar society', 'about societies', 'detail about society', 'society event'], 'responses': ['You can check out about societies in Thapar:\\n https://myherupa.com/pages/societies.html \\n https://www.thapar.edu/students/pages/student-societies', 'This is all you need about the socities \\nhttps://myherupa.com/pages/societies.html \\n https://www.thapar.edu/students/pages/student-societies'], 'context_set': ''}, {'tag': 'help', 'patterns': ['how can you help me?', 'what can you do?', 'what all DO you know?', 'WHAT ALL CAN YOU TELL?'], 'responses': ['From societies to exam dates, teachers to subjects, I try to cover all aspects which matters to you the most.', 'I can tell you about subjects, teachers, exam dates,etc all at one place'], 'context_set': ''}, {'tag': 'Name', 'patterns': ['your name', 'what is your name?', 'what can i call you?', 'who are you?'], 'responses': ['I am EDUBOT. A chatbot which provides infomation regarding to Thapar related domains.', 'Hello! My name is EDUBOT.A chatbot which is built to aid Thapar students.'], 'context_set': ''}, {'tag': 'default', 'patterns': [], 'responses': [\"Sorry, I didn't understand\", 'Can you please rephrase'], 'context_set': ''}]}\n"
          ]
        }
      ]
    },
    {
      "cell_type": "code",
      "source": [
        "words=[]\n",
        "classes=[]\n",
        "documents=[]\n",
        "ignore_letters = ['!', '?', ',', '.',';',':']"
      ],
      "metadata": {
        "id": "pGC8nuYB61aN"
      },
      "execution_count": 96,
      "outputs": []
    },
    {
      "cell_type": "code",
      "source": [
        "nltk.download('punkt')\n",
        "nltk.download('stopwords')\n",
        "nltk.download('wordnet')\n",
        "lemmatizer = WordNetLemmatizer()\n",
        "stopWords = list(set(stopwords.words(\"english\")))\n",
        "for intent in intents['intents']:\n",
        "    for pattern in intent['patterns']:\n",
        "        word_list = nltk.word_tokenize(pattern)\n",
        "        word_list=[lemmatizer.lemmatize(word.lower()) for word in word_list if word not in stopWords and word not in ignore_letters ]\n",
        "        words.extend(word_list)\n",
        "        # print(word_list)\n",
        "        documents.append((word_list,intent['tag']))\n",
        "        if intent['tag'].lower() not in classes:\n",
        "            classes.append(intent['tag'].lower())\n",
        "print(documents)"
      ],
      "metadata": {
        "id": "TyZj-mxmwZg5",
        "colab": {
          "base_uri": "https://localhost:8080/"
        },
        "outputId": "2b036df4-9b91-4328-9a18-266b9e756781"
      },
      "execution_count": 97,
      "outputs": [
        {
          "output_type": "stream",
          "name": "stdout",
          "text": [
            "[nltk_data] Downloading package punkt to /root/nltk_data...\n",
            "[nltk_data]   Package punkt is already up-to-date!\n",
            "[nltk_data] Downloading package stopwords to /root/nltk_data...\n",
            "[nltk_data]   Package stopwords is already up-to-date!\n",
            "[nltk_data] Downloading package wordnet to /root/nltk_data...\n",
            "[nltk_data]   Package wordnet is already up-to-date!\n",
            "[(['hi'], 'greeting'), (['how'], 'greeting'), (['is', 'anyone'], 'greeting'), (['hello'], 'greeting'), (['good', 'day'], 'greeting'), (['whats'], 'greeting'), (['hey'], 'greeting'), (['greeting'], 'greeting'), (['cya'], 'goodbye'), (['see', 'later'], 'goodbye'), (['goodbye'], 'goodbye'), (['i', 'leaving'], 'goodbye'), (['have', 'good', 'day'], 'goodbye'), (['bye'], 'goodbye'), (['cao'], 'goodbye'), (['see', 'ya'], 'goodbye'), (['subject'], 'subjects'), (['my', 'subject'], 'subjects'), (['computer', 'science', 'subject'], 'subjects'), (['which', 'subject'], 'subjects'), (['c', 'subject'], 'subjects'), (['coe', 'subject'], 'subjects'), (['tell', 'subject'], 'subjects'), (['who', 'teach', 'ai'], 'AIteacher'), (['ai', 'subject', 'teacher'], 'AIteacher'), (['ai', 'teacher'], 'AIteacher'), (['ai', 'lab', 'teacher'], 'AIteacher'), (['who', 'best', 'teacher'], 'Bestteacher'), (['best', 'teacher'], 'Bestteacher'), (['good', 'teacher'], 'Bestteacher'), (['best', 'ai', 'teacher', 'thapar'], 'Bestteacher'), (['who', 'doaa'], 'doaa'), (['doaa'], 'doaa'), (['dean', 'academic', 'affair'], 'doaa'), (['dean', 'thapar'], 'doaa'), (['who', 'made'], 'madeby'), (['made'], 'madeby'), (['created', 'by'], 'madeby'), (['whose', 'project'], 'madeby'), (['exam'], 'exams'), (['exam', 'date'], 'exams'), (['exam', 'date'], 'exams'), (['est', 'starting'], 'exams'), (['pervious', 'year', 'question', 'paper'], 'quespapers'), (['last', 'yeat', 'paper'], 'quespapers'), (['ques', 'paper'], 'quespapers'), (['get', 'last', 'year', \"'s\", 'ques', 'paper'], 'quespapers'), (['thapar', 'society'], 'societies'), (['society'], 'societies'), (['detail', 'society'], 'societies'), (['society', 'event'], 'societies'), (['help'], 'help'), ([], 'help'), (['do', 'know'], 'help'), (['what', 'all', 'can', 'you', 'tell'], 'help'), (['name'], 'Name'), (['name'], 'Name'), (['call'], 'Name'), ([], 'Name')]\n"
          ]
        }
      ]
    },
    {
      "cell_type": "code",
      "source": [
        "words = sorted(set(words))\n",
        "classes = sorted(set(classes))\n",
        "print(documents)"
      ],
      "metadata": {
        "id": "SFyui40M125h",
        "colab": {
          "base_uri": "https://localhost:8080/"
        },
        "outputId": "2f8e93f2-6295-49b3-fee2-196b3d2e7c7b"
      },
      "execution_count": 98,
      "outputs": [
        {
          "output_type": "stream",
          "name": "stdout",
          "text": [
            "[(['hi'], 'greeting'), (['how'], 'greeting'), (['is', 'anyone'], 'greeting'), (['hello'], 'greeting'), (['good', 'day'], 'greeting'), (['whats'], 'greeting'), (['hey'], 'greeting'), (['greeting'], 'greeting'), (['cya'], 'goodbye'), (['see', 'later'], 'goodbye'), (['goodbye'], 'goodbye'), (['i', 'leaving'], 'goodbye'), (['have', 'good', 'day'], 'goodbye'), (['bye'], 'goodbye'), (['cao'], 'goodbye'), (['see', 'ya'], 'goodbye'), (['subject'], 'subjects'), (['my', 'subject'], 'subjects'), (['computer', 'science', 'subject'], 'subjects'), (['which', 'subject'], 'subjects'), (['c', 'subject'], 'subjects'), (['coe', 'subject'], 'subjects'), (['tell', 'subject'], 'subjects'), (['who', 'teach', 'ai'], 'AIteacher'), (['ai', 'subject', 'teacher'], 'AIteacher'), (['ai', 'teacher'], 'AIteacher'), (['ai', 'lab', 'teacher'], 'AIteacher'), (['who', 'best', 'teacher'], 'Bestteacher'), (['best', 'teacher'], 'Bestteacher'), (['good', 'teacher'], 'Bestteacher'), (['best', 'ai', 'teacher', 'thapar'], 'Bestteacher'), (['who', 'doaa'], 'doaa'), (['doaa'], 'doaa'), (['dean', 'academic', 'affair'], 'doaa'), (['dean', 'thapar'], 'doaa'), (['who', 'made'], 'madeby'), (['made'], 'madeby'), (['created', 'by'], 'madeby'), (['whose', 'project'], 'madeby'), (['exam'], 'exams'), (['exam', 'date'], 'exams'), (['exam', 'date'], 'exams'), (['est', 'starting'], 'exams'), (['pervious', 'year', 'question', 'paper'], 'quespapers'), (['last', 'yeat', 'paper'], 'quespapers'), (['ques', 'paper'], 'quespapers'), (['get', 'last', 'year', \"'s\", 'ques', 'paper'], 'quespapers'), (['thapar', 'society'], 'societies'), (['society'], 'societies'), (['detail', 'society'], 'societies'), (['society', 'event'], 'societies'), (['help'], 'help'), ([], 'help'), (['do', 'know'], 'help'), (['what', 'all', 'can', 'you', 'tell'], 'help'), (['name'], 'Name'), (['name'], 'Name'), (['call'], 'Name'), ([], 'Name')]\n"
          ]
        }
      ]
    },
    {
      "cell_type": "code",
      "source": [
        "print(\"HEY I AM EDU BOT! \")\n",
        "print(\"HOW CAN I HELP YOU?\")\n",
        "into = \"HEY I AM EDU BOT! HOW CAN I HELP YOU?\"\n",
        "audio = gTTS(into)\n",
        "audio.save('2.wav')\n",
        "sound_file = '2.wav'"
      ],
      "metadata": {
        "id": "d2N6QU5v0z21",
        "colab": {
          "base_uri": "https://localhost:8080/"
        },
        "outputId": "5aea8f05-a397-43e3-ee84-c00ddc4b1245"
      },
      "execution_count": 99,
      "outputs": [
        {
          "output_type": "stream",
          "name": "stdout",
          "text": [
            "HEY I AM EDU BOT! \n",
            "HOW CAN I HELP YOU?\n"
          ]
        }
      ]
    },
    {
      "cell_type": "code",
      "source": [
        "Audio('2.wav',rate=44100,autoplay = True)"
      ],
      "metadata": {
        "id": "8W1-36WI9nFh",
        "colab": {
          "base_uri": "https://localhost:8080/",
          "height": 75
        },
        "outputId": "0b251a9b-1e4a-41fd-f334-cf510e2b3e32"
      },
      "execution_count": 100,
      "outputs": [
        {
          "output_type": "execute_result",
          "data": {
            "text/plain": [
              "<IPython.lib.display.Audio object>"
            ],
            "text/html": [
              "\n",
              "                <audio controls=\"controls\" autoplay=\"autoplay\">\n",
              "                    <source src=\"data:audio/x-wav;base64,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\" type=\"audio/x-wav\" />\n",
              "                    Your browser does not support the audio element.\n",
              "                </audio>\n",
              "              "
            ]
          },
          "metadata": {},
          "execution_count": 100
        }
      ]
    },
    {
      "cell_type": "code",
      "source": [
        "chat=input()\n",
        "chat=nltk.word_tokenize(chat)\n",
        "chat=[lemmatizer.lemmatize(word.lower()) for word in chat if word not in stopWords and word not in ignore_letters ]\n",
        "print(chat)"
      ],
      "metadata": {
        "id": "2Ha2pq7l9igS",
        "colab": {
          "base_uri": "https://localhost:8080/"
        },
        "outputId": "24aada2b-8246-45a1-cd1e-9e9ed5852c73"
      },
      "execution_count": 101,
      "outputs": [
        {
          "output_type": "stream",
          "name": "stdout",
          "text": [
            "Hello\n",
            "['hello']\n"
          ]
        }
      ]
    },
    {
      "cell_type": "code",
      "source": [
        "final_tag={}\n",
        "for tag in classes:\n",
        "  final_tag[tag]=0\n",
        "print(final_tag)"
      ],
      "metadata": {
        "id": "EfL4Fgo3caNP",
        "colab": {
          "base_uri": "https://localhost:8080/"
        },
        "outputId": "01e1eb1f-88fd-420a-dffc-6df767d1e2ca"
      },
      "execution_count": 102,
      "outputs": [
        {
          "output_type": "stream",
          "name": "stdout",
          "text": [
            "{'aiteacher': 0, 'bestteacher': 0, 'doaa': 0, 'exams': 0, 'goodbye': 0, 'greeting': 0, 'help': 0, 'madeby': 0, 'name': 0, 'quespapers': 0, 'societies': 0, 'subjects': 0}\n"
          ]
        }
      ]
    },
    {
      "cell_type": "code",
      "source": [
        "for doc in documents:\n",
        "  for c in chat:\n",
        "    for que in doc[0]:\n",
        "      if c==que:\n",
        "        # print(doc[1])\n",
        "        final_tag[doc[1].lower()]+=1\n",
        "print(final_tag)\n",
        "    "
      ],
      "metadata": {
        "id": "12aGc7Kbc4D7",
        "colab": {
          "base_uri": "https://localhost:8080/"
        },
        "outputId": "342ce482-5878-4fd8-f135-ff23d39c1996"
      },
      "execution_count": 103,
      "outputs": [
        {
          "output_type": "stream",
          "name": "stdout",
          "text": [
            "{'aiteacher': 0, 'bestteacher': 0, 'doaa': 0, 'exams': 0, 'goodbye': 0, 'greeting': 1, 'help': 0, 'madeby': 0, 'name': 0, 'quespapers': 0, 'societies': 0, 'subjects': 0}\n"
          ]
        }
      ]
    },
    {
      "cell_type": "code",
      "source": [
        "select_tag=max(final_tag,key=final_tag.get)\n",
        "# print(max(final_tag,key=final_tag.get))\n",
        "if final_tag.get(select_tag) == None or final_tag.get(select_tag) == 0:\n",
        "  select_tag = 'default'\n",
        "# else:\n",
        "#   select_tag='default'\n",
        "print(select_tag)"
      ],
      "metadata": {
        "id": "ld2uJ045e0Vv",
        "colab": {
          "base_uri": "https://localhost:8080/"
        },
        "outputId": "4cb7aae4-712b-4d1c-9265-da749cdf41ba"
      },
      "execution_count": 104,
      "outputs": [
        {
          "output_type": "stream",
          "name": "stdout",
          "text": [
            "greeting\n"
          ]
        }
      ]
    },
    {
      "cell_type": "code",
      "source": [
        "ansList=[]\n",
        "for intent in intents['intents']:\n",
        "  if intent['tag'].lower()==select_tag:\n",
        "    for response in intent['responses']:\n",
        "      ansList.append(response)\n",
        "      # print(response)\n",
        "      result=random.choice(ansList)\n",
        "audio = gTTS(result)\n",
        "audio.save('1.wav')\n",
        "sound_file = '1.wav'\n",
        "# Audio(sound_file,rate=\"framerate\")\n",
        "# IPython.display.Audio('1.wav')\n",
        "# Audio('1.wav',rate=44100)\n",
        "print(result)\n",
        "\n",
        "\n",
        "# translator= Translator(to_lang=\"Hindi\")\n",
        "# translation = translator.translate(result)\n",
        "# # print(translation)\n",
        "# audio = gTTS(translation)\n",
        "# audio.save('1.wav')\n",
        "# sound_file = '1.wav'"
      ],
      "metadata": {
        "id": "WzQeXIIdglIB",
        "colab": {
          "base_uri": "https://localhost:8080/"
        },
        "outputId": "35151058-d2d3-469b-ce27-8fff96bbd48b"
      },
      "execution_count": 105,
      "outputs": [
        {
          "output_type": "stream",
          "name": "stdout",
          "text": [
            "Hello!\n"
          ]
        }
      ]
    },
    {
      "cell_type": "code",
      "source": [
        "Audio('1.wav',rate=44100,autoplay = True)"
      ],
      "metadata": {
        "id": "LDwuT3qTmzQi",
        "colab": {
          "base_uri": "https://localhost:8080/",
          "height": 75
        },
        "outputId": "78c44ffe-f0c0-4065-fd03-6018229b61a4"
      },
      "execution_count": 106,
      "outputs": [
        {
          "output_type": "execute_result",
          "data": {
            "text/plain": [
              "<IPython.lib.display.Audio object>"
            ],
            "text/html": [
              "\n",
              "                <audio controls=\"controls\" autoplay=\"autoplay\">\n",
              "                    <source src=\"data:audio/x-wav;base64,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\" type=\"audio/x-wav\" />\n",
              "                    Your browser does not support the audio element.\n",
              "                </audio>\n",
              "              "
            ]
          },
          "metadata": {},
          "execution_count": 106
        }
      ]
    }
  ]
}